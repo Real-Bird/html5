{
 "cells": [
  {
   "cell_type": "markdown",
   "id": "f2b51c52",
   "metadata": {},
   "source": [
    "get() : key로 value를 불러옴"
   ]
  },
  {
   "cell_type": "code",
   "execution_count": 1,
   "id": "4dbacaf8",
   "metadata": {},
   "outputs": [
    {
     "data": {
      "text/plain": [
       "{'a': 1, 'b': 2, 'c': 3}"
      ]
     },
     "execution_count": 1,
     "metadata": {},
     "output_type": "execute_result"
    }
   ],
   "source": [
    "car = {\"a\": 1,\n",
    "      \"b\": 2,\n",
    "      \"c\": 3}\n",
    "car"
   ]
  },
  {
   "cell_type": "code",
   "execution_count": 2,
   "id": "42a16894",
   "metadata": {},
   "outputs": [
    {
     "data": {
      "text/plain": [
       "1"
      ]
     },
     "execution_count": 2,
     "metadata": {},
     "output_type": "execute_result"
    }
   ],
   "source": [
    "car[\"a\"]"
   ]
  },
  {
   "cell_type": "code",
   "execution_count": 3,
   "id": "376abcf4",
   "metadata": {},
   "outputs": [
    {
     "data": {
      "text/plain": [
       "1"
      ]
     },
     "execution_count": 3,
     "metadata": {},
     "output_type": "execute_result"
    }
   ],
   "source": [
    "car.get(\"a\")"
   ]
  },
  {
   "cell_type": "markdown",
   "id": "dc894562",
   "metadata": {},
   "source": [
    "items() : dict의 모든 key와 value를 가져옴"
   ]
  },
  {
   "cell_type": "markdown",
   "id": "5b2aaf56",
   "metadata": {},
   "source": [
    "keys() : dict의 모든 key를 가져옴"
   ]
  },
  {
   "cell_type": "markdown",
   "id": "a675527f",
   "metadata": {},
   "source": [
    "values() : dict의 모든 value를 가져옴"
   ]
  }
 ],
 "metadata": {
  "kernelspec": {
   "display_name": "Python 3",
   "language": "python",
   "name": "python3"
  },
  "language_info": {
   "codemirror_mode": {
    "name": "ipython",
    "version": 3
   },
   "file_extension": ".py",
   "mimetype": "text/x-python",
   "name": "python",
   "nbconvert_exporter": "python",
   "pygments_lexer": "ipython3",
   "version": "3.8.8"
  }
 },
 "nbformat": 4,
 "nbformat_minor": 5
}
